{
 "cells": [
  {
   "cell_type": "markdown",
   "metadata": {},
   "source": [
    "# Supervised Learning - Titanic Dataset\n",
    "## Naive Bayes and K-Nearest Neighbours Implementation from Scratch"
   ]
  },
  {
   "cell_type": "markdown",
   "metadata": {},
   "source": [
    "### Objective:\n",
    "- Implement Naive Bayes and KNN from scratch using only NumPy, Pandas, and Matplotlib.\n",
    "- Perform preprocessing, visualization, and classification.\n",
    "- Evaluate model accuracy.\n"
   ]
  },
  {
   "cell_type": "code",
   "execution_count": 17,
   "metadata": {},
   "outputs": [],
   "source": [
    "import pandas as pd\n",
    "import numpy as np\n",
    "import matplotlib.pyplot as plt"
   ]
  },
  {
   "cell_type": "code",
   "execution_count": 18,
   "metadata": {},
   "outputs": [
    {
     "data": {
      "application/vnd.microsoft.datawrangler.viewer.v0+json": {
       "columns": [
        {
         "name": "index",
         "rawType": "int64",
         "type": "integer"
        },
        {
         "name": "PassengerId",
         "rawType": "int64",
         "type": "integer"
        },
        {
         "name": "Survived",
         "rawType": "int64",
         "type": "integer"
        },
        {
         "name": "Pclass",
         "rawType": "int64",
         "type": "integer"
        },
        {
         "name": "Name",
         "rawType": "object",
         "type": "string"
        },
        {
         "name": "Sex",
         "rawType": "object",
         "type": "string"
        },
        {
         "name": "Age",
         "rawType": "float64",
         "type": "float"
        },
        {
         "name": "SibSp",
         "rawType": "int64",
         "type": "integer"
        },
        {
         "name": "Parch",
         "rawType": "int64",
         "type": "integer"
        },
        {
         "name": "Ticket",
         "rawType": "object",
         "type": "string"
        },
        {
         "name": "Fare",
         "rawType": "float64",
         "type": "float"
        },
        {
         "name": "Cabin",
         "rawType": "object",
         "type": "unknown"
        },
        {
         "name": "Embarked",
         "rawType": "object",
         "type": "string"
        }
       ],
       "ref": "321a4159-fcd5-4981-9cf7-5e085b52d593",
       "rows": [
        [
         "0",
         "1",
         "0",
         "3",
         "Braund, Mr. Owen Harris",
         "male",
         "22.0",
         "1",
         "0",
         "A/5 21171",
         "7.25",
         null,
         "S"
        ],
        [
         "1",
         "2",
         "1",
         "1",
         "Cumings, Mrs. John Bradley (Florence Briggs Thayer)",
         "female",
         "38.0",
         "1",
         "0",
         "PC 17599",
         "71.2833",
         "C85",
         "C"
        ],
        [
         "2",
         "3",
         "1",
         "3",
         "Heikkinen, Miss. Laina",
         "female",
         "26.0",
         "0",
         "0",
         "STON/O2. 3101282",
         "7.925",
         null,
         "S"
        ],
        [
         "3",
         "4",
         "1",
         "1",
         "Futrelle, Mrs. Jacques Heath (Lily May Peel)",
         "female",
         "35.0",
         "1",
         "0",
         "113803",
         "53.1",
         "C123",
         "S"
        ],
        [
         "4",
         "5",
         "0",
         "3",
         "Allen, Mr. William Henry",
         "male",
         "35.0",
         "0",
         "0",
         "373450",
         "8.05",
         null,
         "S"
        ],
        [
         "5",
         "6",
         "0",
         "3",
         "Moran, Mr. James",
         "male",
         null,
         "0",
         "0",
         "330877",
         "8.4583",
         null,
         "Q"
        ],
        [
         "6",
         "7",
         "0",
         "1",
         "McCarthy, Mr. Timothy J",
         "male",
         "54.0",
         "0",
         "0",
         "17463",
         "51.8625",
         "E46",
         "S"
        ],
        [
         "7",
         "8",
         "0",
         "3",
         "Palsson, Master. Gosta Leonard",
         "male",
         "2.0",
         "3",
         "1",
         "349909",
         "21.075",
         null,
         "S"
        ],
        [
         "8",
         "9",
         "1",
         "3",
         "Johnson, Mrs. Oscar W (Elisabeth Vilhelmina Berg)",
         "female",
         "27.0",
         "0",
         "2",
         "347742",
         "11.1333",
         null,
         "S"
        ],
        [
         "9",
         "10",
         "1",
         "2",
         "Nasser, Mrs. Nicholas (Adele Achem)",
         "female",
         "14.0",
         "1",
         "0",
         "237736",
         "30.0708",
         null,
         "C"
        ]
       ],
       "shape": {
        "columns": 12,
        "rows": 10
       }
      },
      "text/html": [
       "<div>\n",
       "<style scoped>\n",
       "    .dataframe tbody tr th:only-of-type {\n",
       "        vertical-align: middle;\n",
       "    }\n",
       "\n",
       "    .dataframe tbody tr th {\n",
       "        vertical-align: top;\n",
       "    }\n",
       "\n",
       "    .dataframe thead th {\n",
       "        text-align: right;\n",
       "    }\n",
       "</style>\n",
       "<table border=\"1\" class=\"dataframe\">\n",
       "  <thead>\n",
       "    <tr style=\"text-align: right;\">\n",
       "      <th></th>\n",
       "      <th>PassengerId</th>\n",
       "      <th>Survived</th>\n",
       "      <th>Pclass</th>\n",
       "      <th>Name</th>\n",
       "      <th>Sex</th>\n",
       "      <th>Age</th>\n",
       "      <th>SibSp</th>\n",
       "      <th>Parch</th>\n",
       "      <th>Ticket</th>\n",
       "      <th>Fare</th>\n",
       "      <th>Cabin</th>\n",
       "      <th>Embarked</th>\n",
       "    </tr>\n",
       "  </thead>\n",
       "  <tbody>\n",
       "    <tr>\n",
       "      <th>0</th>\n",
       "      <td>1</td>\n",
       "      <td>0</td>\n",
       "      <td>3</td>\n",
       "      <td>Braund, Mr. Owen Harris</td>\n",
       "      <td>male</td>\n",
       "      <td>22.0</td>\n",
       "      <td>1</td>\n",
       "      <td>0</td>\n",
       "      <td>A/5 21171</td>\n",
       "      <td>7.2500</td>\n",
       "      <td>NaN</td>\n",
       "      <td>S</td>\n",
       "    </tr>\n",
       "    <tr>\n",
       "      <th>1</th>\n",
       "      <td>2</td>\n",
       "      <td>1</td>\n",
       "      <td>1</td>\n",
       "      <td>Cumings, Mrs. John Bradley (Florence Briggs Th...</td>\n",
       "      <td>female</td>\n",
       "      <td>38.0</td>\n",
       "      <td>1</td>\n",
       "      <td>0</td>\n",
       "      <td>PC 17599</td>\n",
       "      <td>71.2833</td>\n",
       "      <td>C85</td>\n",
       "      <td>C</td>\n",
       "    </tr>\n",
       "    <tr>\n",
       "      <th>2</th>\n",
       "      <td>3</td>\n",
       "      <td>1</td>\n",
       "      <td>3</td>\n",
       "      <td>Heikkinen, Miss. Laina</td>\n",
       "      <td>female</td>\n",
       "      <td>26.0</td>\n",
       "      <td>0</td>\n",
       "      <td>0</td>\n",
       "      <td>STON/O2. 3101282</td>\n",
       "      <td>7.9250</td>\n",
       "      <td>NaN</td>\n",
       "      <td>S</td>\n",
       "    </tr>\n",
       "    <tr>\n",
       "      <th>3</th>\n",
       "      <td>4</td>\n",
       "      <td>1</td>\n",
       "      <td>1</td>\n",
       "      <td>Futrelle, Mrs. Jacques Heath (Lily May Peel)</td>\n",
       "      <td>female</td>\n",
       "      <td>35.0</td>\n",
       "      <td>1</td>\n",
       "      <td>0</td>\n",
       "      <td>113803</td>\n",
       "      <td>53.1000</td>\n",
       "      <td>C123</td>\n",
       "      <td>S</td>\n",
       "    </tr>\n",
       "    <tr>\n",
       "      <th>4</th>\n",
       "      <td>5</td>\n",
       "      <td>0</td>\n",
       "      <td>3</td>\n",
       "      <td>Allen, Mr. William Henry</td>\n",
       "      <td>male</td>\n",
       "      <td>35.0</td>\n",
       "      <td>0</td>\n",
       "      <td>0</td>\n",
       "      <td>373450</td>\n",
       "      <td>8.0500</td>\n",
       "      <td>NaN</td>\n",
       "      <td>S</td>\n",
       "    </tr>\n",
       "    <tr>\n",
       "      <th>5</th>\n",
       "      <td>6</td>\n",
       "      <td>0</td>\n",
       "      <td>3</td>\n",
       "      <td>Moran, Mr. James</td>\n",
       "      <td>male</td>\n",
       "      <td>NaN</td>\n",
       "      <td>0</td>\n",
       "      <td>0</td>\n",
       "      <td>330877</td>\n",
       "      <td>8.4583</td>\n",
       "      <td>NaN</td>\n",
       "      <td>Q</td>\n",
       "    </tr>\n",
       "    <tr>\n",
       "      <th>6</th>\n",
       "      <td>7</td>\n",
       "      <td>0</td>\n",
       "      <td>1</td>\n",
       "      <td>McCarthy, Mr. Timothy J</td>\n",
       "      <td>male</td>\n",
       "      <td>54.0</td>\n",
       "      <td>0</td>\n",
       "      <td>0</td>\n",
       "      <td>17463</td>\n",
       "      <td>51.8625</td>\n",
       "      <td>E46</td>\n",
       "      <td>S</td>\n",
       "    </tr>\n",
       "    <tr>\n",
       "      <th>7</th>\n",
       "      <td>8</td>\n",
       "      <td>0</td>\n",
       "      <td>3</td>\n",
       "      <td>Palsson, Master. Gosta Leonard</td>\n",
       "      <td>male</td>\n",
       "      <td>2.0</td>\n",
       "      <td>3</td>\n",
       "      <td>1</td>\n",
       "      <td>349909</td>\n",
       "      <td>21.0750</td>\n",
       "      <td>NaN</td>\n",
       "      <td>S</td>\n",
       "    </tr>\n",
       "    <tr>\n",
       "      <th>8</th>\n",
       "      <td>9</td>\n",
       "      <td>1</td>\n",
       "      <td>3</td>\n",
       "      <td>Johnson, Mrs. Oscar W (Elisabeth Vilhelmina Berg)</td>\n",
       "      <td>female</td>\n",
       "      <td>27.0</td>\n",
       "      <td>0</td>\n",
       "      <td>2</td>\n",
       "      <td>347742</td>\n",
       "      <td>11.1333</td>\n",
       "      <td>NaN</td>\n",
       "      <td>S</td>\n",
       "    </tr>\n",
       "    <tr>\n",
       "      <th>9</th>\n",
       "      <td>10</td>\n",
       "      <td>1</td>\n",
       "      <td>2</td>\n",
       "      <td>Nasser, Mrs. Nicholas (Adele Achem)</td>\n",
       "      <td>female</td>\n",
       "      <td>14.0</td>\n",
       "      <td>1</td>\n",
       "      <td>0</td>\n",
       "      <td>237736</td>\n",
       "      <td>30.0708</td>\n",
       "      <td>NaN</td>\n",
       "      <td>C</td>\n",
       "    </tr>\n",
       "  </tbody>\n",
       "</table>\n",
       "</div>"
      ],
      "text/plain": [
       "   PassengerId  Survived  Pclass  \\\n",
       "0            1         0       3   \n",
       "1            2         1       1   \n",
       "2            3         1       3   \n",
       "3            4         1       1   \n",
       "4            5         0       3   \n",
       "5            6         0       3   \n",
       "6            7         0       1   \n",
       "7            8         0       3   \n",
       "8            9         1       3   \n",
       "9           10         1       2   \n",
       "\n",
       "                                                Name     Sex   Age  SibSp  \\\n",
       "0                            Braund, Mr. Owen Harris    male  22.0      1   \n",
       "1  Cumings, Mrs. John Bradley (Florence Briggs Th...  female  38.0      1   \n",
       "2                             Heikkinen, Miss. Laina  female  26.0      0   \n",
       "3       Futrelle, Mrs. Jacques Heath (Lily May Peel)  female  35.0      1   \n",
       "4                           Allen, Mr. William Henry    male  35.0      0   \n",
       "5                                   Moran, Mr. James    male   NaN      0   \n",
       "6                            McCarthy, Mr. Timothy J    male  54.0      0   \n",
       "7                     Palsson, Master. Gosta Leonard    male   2.0      3   \n",
       "8  Johnson, Mrs. Oscar W (Elisabeth Vilhelmina Berg)  female  27.0      0   \n",
       "9                Nasser, Mrs. Nicholas (Adele Achem)  female  14.0      1   \n",
       "\n",
       "   Parch            Ticket     Fare Cabin Embarked  \n",
       "0      0         A/5 21171   7.2500   NaN        S  \n",
       "1      0          PC 17599  71.2833   C85        C  \n",
       "2      0  STON/O2. 3101282   7.9250   NaN        S  \n",
       "3      0            113803  53.1000  C123        S  \n",
       "4      0            373450   8.0500   NaN        S  \n",
       "5      0            330877   8.4583   NaN        Q  \n",
       "6      0             17463  51.8625   E46        S  \n",
       "7      1            349909  21.0750   NaN        S  \n",
       "8      2            347742  11.1333   NaN        S  \n",
       "9      0            237736  30.0708   NaN        C  "
      ]
     },
     "execution_count": 18,
     "metadata": {},
     "output_type": "execute_result"
    }
   ],
   "source": [
    "# Importing the pandas library for data manipulation and analysis\n",
    "import pandas as pd\n",
    "\n",
    "#  Loading the training dataset \n",
    "train_data = pd.read_csv(\"train.csv\")\n",
    "\n",
    "# Loading the test dataset \n",
    "test_data = pd.read_csv(\"test.csv\")\n",
    "\n",
    "# Loading the gender submission file \n",
    "gender_data = pd.read_csv(\"gender_submission.csv\")\n",
    "\n",
    "# Displaying the first 10 rows of the training dataset to understand its structure\n",
    "train_data.head(10)\n"
   ]
  },
  {
   "cell_type": "markdown",
   "metadata": {},
   "source": [
    "## Preprocessing\n",
    "- Handled missing values in `Age`, `Fare`, and `Embarked`.\n",
    "- Converted `Sex` and `Embarked` to numeric.\n",
    "- Selected relevant features."
   ]
  },
  {
   "cell_type": "code",
   "execution_count": 19,
   "metadata": {},
   "outputs": [],
   "source": [
    "# Function to preprocess data: handle missing values and convert categories to numbers\n",
    "def data_preprocessing(data):\n",
    "    data = data.copy()  # Work on a copy to avoid changing original data\n",
    "\n",
    "    # Fill missing Age and Fare with median values\n",
    "    data['Age'] = data['Age'].fillna(data['Age'].median())\n",
    "    data['Fare'] = data['Fare'].fillna(data['Fare'].median())\n",
    "\n",
    "    # Fill missing Embarked values with the most common port\n",
    "    data['Embarked'] = data['Embarked'].fillna(data['Embarked'].mode()[0])\n",
    "\n",
    "    # Convert categorical variables 'Sex' and 'Embarked' into numeric codes\n",
    "    data['Sex'] = data['Sex'].map({'male': 0, 'female': 1})\n",
    "    data['Embarked'] = data['Embarked'].map({'S': 0, 'C': 1, 'Q': 2})\n",
    "\n",
    "    # Select relevant features for modeling\n",
    "    selected_features = ['Pclass', 'Sex', 'Age', 'SibSp', 'Parch', 'Fare', 'Embarked']\n",
    "    return data[selected_features]"
   ]
  },
  {
   "cell_type": "code",
   "execution_count": 20,
   "metadata": {},
   "outputs": [],
   "source": [
    "# Preprocess training features and target labels\n",
    "x_train = data_preprocessing(train_data)\n",
    "y_train = train_data['Survived'].values\n",
    "\n",
    "# Preprocess test features\n",
    "x_test = data_preprocessing(test_data)\n"
   ]
  },
  {
   "cell_type": "code",
   "execution_count": 21,
   "metadata": {},
   "outputs": [
    {
     "data": {
      "image/png": "[encoded data removed]",
      "text/plain": [
       "<Figure size 600x400 with 1 Axes>"
      ]
     },
     "metadata": {},
     "output_type": "display_data"
    },
    {
     "data": {
      "image/png": "[encoded data removed]",
      "text/plain": [
       "<Figure size 600x400 with 1 Axes>"
      ]
     },
     "metadata": {},
     "output_type": "display_data"
    }
   ],
   "source": [
    "# Plot survival rate by passenger class (Pclass)\n",
    "plt.figure(figsize=(6,4))\n",
    "train_data.groupby('Pclass')['Survived'].mean().plot(kind='bar', color='skyblue')\n",
    "plt.title(\"Survival Rate by Passenger Class\")\n",
    "plt.xlabel(\"Passenger Class\")\n",
    "plt.ylabel(\"Survival Rate\")\n",
    "plt.grid(True)\n",
    "plt.show()\n",
    "\n",
    "# Plot overall survival distribution as a pie chart\n",
    "plt.figure(figsize=(6,4))\n",
    "train_data['Survived'].value_counts().plot(\n",
    "    kind='pie',\n",
    "    autopct='%1.1f%%',\n",
    "    labels=['Did Not Survive', 'Survived']\n",
    ")\n",
    "plt.title(\"Overall Survival Distribution\")\n",
    "plt.ylabel('')  # Hide y-axis label for cleaner look\n",
    "plt.show()\n"
   ]
  },
  {
   "cell_type": "markdown",
   "metadata": {},
   "source": [
    "## K-Nearest Neighbours\n",
    "- Used Euclidean distance to compare test instances to training points.\n",
    "- Chose top `k=5` nearest neighbors for classification."
   ]
  },
  {
   "cell_type": "code",
   "execution_count": 22,
   "metadata": {},
   "outputs": [],
   "source": [
    "# Function to calculate Euclidean distance between two points\n",
    "def euclidean_distance(point1, point2):\n",
    "    return np.sqrt(np.sum((point1 - point2)**2))\n",
    "\n",
    "# K-Nearest Neighbors (KNN) implementation from scratch\n",
    "def knn(x_train, y_train, x_test, k=5):\n",
    "    predictions = []\n",
    "\n",
    "    # Loop over each test data point\n",
    "    for test_point in x_test:\n",
    "        distances = []\n",
    "\n",
    "        # Calculate distance between test_point and all training points\n",
    "        for i in range(len(x_train)):\n",
    "            dist = euclidean_distance(test_point, x_train[i])\n",
    "            distances.append((dist, y_train[i]))\n",
    "\n",
    "        # Sort distances and select k nearest neighbors\n",
    "        distances.sort(key=lambda x: x[0])\n",
    "        neighbors = distances[:k]\n",
    "\n",
    "        # Extract labels of neighbors\n",
    "        labels = [label for _, label in neighbors]\n",
    "\n",
    "        # Majority vote: most common label is the prediction\n",
    "        prediction = max(set(labels), key=labels.count)\n",
    "        predictions.append(prediction)\n",
    "\n",
    "    return np.array(predictions)"
   ]
  },
  {
   "cell_type": "markdown",
   "metadata": {},
   "source": [
    "## Naive Bayes\n",
    "- Calculated class-wise feature mean and variance.\n",
    "- Used Gaussian PDF for likelihood estimation.\n",
    "- Log probabilities used to avoid underflow."
   ]
  },
  {
   "cell_type": "code",
   "execution_count": 23,
   "metadata": {},
   "outputs": [],
   "source": [
    "# Naive Bayes classifier implemented from scratch for Gaussian data\n",
    "class NaiveBayes:\n",
    "    def fit(self, X, y):\n",
    "        self.classes = np.unique(y)  # Unique classes (0 and 1)\n",
    "        self.mean = {}\n",
    "        self.var = {}\n",
    "        self.priors = {}\n",
    "\n",
    "        # Calculate mean, variance, and prior probability for each class\n",
    "        for cls in self.classes:\n",
    "            X_cls = X[y == cls]\n",
    "            self.mean[cls] = X_cls.mean(axis=0)\n",
    "            self.var[cls] = X_cls.var(axis=0)\n",
    "            self.priors[cls] = len(X_cls) / len(X)\n",
    "\n",
    "    # Gaussian probability density function for each feature\n",
    "    def _pdf(self, cls, x):\n",
    "        mean = self.mean[cls]\n",
    "        var = self.var[cls]\n",
    "        numerator = np.exp(- (x - mean)**2 / (2 * var + 1e-6))\n",
    "        denominator = np.sqrt(2 * np.pi * var + 1e-6)\n",
    "        return numerator / denominator\n",
    "\n",
    "    # Predict classes for samples in X\n",
    "    def predict(self, X):\n",
    "        predictions = []\n",
    "        for x in X:\n",
    "            posteriors = []\n",
    "\n",
    "            # Calculate log posterior for each class\n",
    "            for cls in self.classes:\n",
    "                prior = np.log(self.priors[cls])\n",
    "                likelihood = np.sum(np.log(self._pdf(cls, x)))\n",
    "                posterior = prior + likelihood\n",
    "                posteriors.append(posterior)\n",
    "\n",
    "            # Choose class with highest posterior probability\n",
    "            predictions.append(self.classes[np.argmax(posteriors)])\n",
    "        return np.array(predictions)"
   ]
  },
  {
   "cell_type": "code",
   "execution_count": 24,
   "metadata": {},
   "outputs": [],
   "source": [
    "# Split the training data into training and validation sets (80%-20%)\n",
    "split_idx = int(0.8 * len(x_train))\n",
    "X_train_np = x_train.values\n",
    "X_train = X_train_np[:split_idx]\n",
    "X_val = X_train_np[split_idx:]\n",
    "y_train_split = y_train[:split_idx]\n",
    "y_val = y_train[split_idx:]"
   ]
  },
  {
   "cell_type": "markdown",
   "metadata": {},
   "source": [
    "- KNN Accuracy: 73.74%"
   ]
  },
  {
   "cell_type": "code",
   "execution_count": 25,
   "metadata": {},
   "outputs": [
    {
     "name": "stdout",
     "output_type": "stream",
     "text": [
      "KNN Accuracy: 0.7374301675977654\n"
     ]
    }
   ],
   "source": [
    "# Evaluate KNN on validation data\n",
    "knn_preds = knn(X_train, y_train_split, X_val, k=5)\n",
    "knn_accuracy = np.mean(knn_preds == y_val)\n",
    "print(\"KNN Accuracy:\", knn_accuracy)\n",
    "\n"
   ]
  },
  {
   "cell_type": "markdown",
   "metadata": {},
   "source": [
    "- Naive Bayes Accuracy: 81.00%"
   ]
  },
  {
   "cell_type": "code",
   "execution_count": 26,
   "metadata": {},
   "outputs": [
    {
     "name": "stdout",
     "output_type": "stream",
     "text": [
      "Naive Bayes Accuracy: 0.8100558659217877\n"
     ]
    }
   ],
   "source": [
    "# Evaluate Naive Bayes on validation data\n",
    "nb_model = NaiveBayes()\n",
    "nb_model.fit(X_train, y_train_split)\n",
    "nb_preds = nb_model.predict(X_val)\n",
    "nb_accuracy = np.mean(nb_preds == y_val)\n",
    "print(\"Naive Bayes Accuracy:\", nb_accuracy)\n"
   ]
  },
  {
   "cell_type": "markdown",
   "metadata": {},
   "source": [
    "## Results Summary\n",
    "- KNN Accuracy: 73.74%\n",
    "- Naive Bayes Accuracy: 81.00%\n",
    "- KNN performs slightly better/worse depending on the value of `k`.\n",
    "- Naive Bayes assumes independence and works better with Gaussian-like data.\n"
   ]
  },
  {
   "cell_type": "code",
   "execution_count": 32,
   "metadata": {},
   "outputs": [],
   "source": [
    "# Use KNN to predict survival on the test dataset\n",
    "final_preds = knn(x_train.values, y_train, x_test.values, k=5)\n",
    "\n",
    "# Prepare submission DataFrame\n",
    "Finalsubmission = pd.DataFrame({\n",
    "    'PassengerId': test_data['PassengerId'],\n",
    "    'Survived': final_preds\n",
    "})\n",
    "\n",
    "# Save submission to CSV file without index\n",
    "Finalsubmission.to_csv(\"FinalSubmission.csv\", index=False)"
   ]
  },
  {
   "cell_type": "markdown",
   "metadata": {},
   "source": [
    "## 📊 Final Visualizations\n",
    "\n",
    "Below are a few visualizations that summarize and compare the performance of both models:\n",
    "\n",
    "- **Accuracy Bar Chart** compares the accuracy of KNN and Naive Bayes on the validation set.\n",
    "- **Confusion Matrices** show how many passengers were correctly or incorrectly classified.\n",
    "- **Prediction Distribution** visualizes the predicted survival counts for the test dataset using KNN.\n"
   ]
  },
  {
   "cell_type": "code",
   "execution_count": 28,
   "metadata": {},
   "outputs": [
    {
     "data": {
      "image/png": "[encoded data removed]",
      "text/plain": [
       "<Figure size 600x400 with 1 Axes>"
      ]
     },
     "metadata": {},
     "output_type": "display_data"
    }
   ],
   "source": [
    "# Plot comparison of model accuracies\n",
    "accuracy_dict = {\"KNN\": knn_accuracy, \"Naive Bayes\": nb_accuracy}\n",
    "plt.figure(figsize=(6,4))\n",
    "plt.bar(accuracy_dict.keys(), accuracy_dict.values(), color=['skyblue', 'salmon'])\n",
    "plt.title(\"Model Accuracy Comparison\")\n",
    "plt.ylabel(\"Accuracy\")\n",
    "plt.ylim(0, 1)\n",
    "plt.grid(axis='y')\n",
    "plt.show()"
   ]
  },
  {
   "cell_type": "code",
   "execution_count": 29,
   "metadata": {},
   "outputs": [],
   "source": [
    "# Function to plot confusion matrix\n",
    "def plot_confusion_matrix(true_labels, predicted_labels, title=\"Confusion Matrix\"):\n",
    "    # Calculate True Positives, True Negatives, False Positives, False Negatives\n",
    "    tp = np.sum((true_labels == 1) & (predicted_labels == 1))\n",
    "    tn = np.sum((true_labels == 0) & (predicted_labels == 0))\n",
    "    fp = np.sum((true_labels == 0) & (predicted_labels == 1))\n",
    "    fn = np.sum((true_labels == 1) & (predicted_labels == 0))\n",
    "\n",
    "    # Create confusion matrix array\n",
    "    matrix = np.array([[tn, fp],\n",
    "                       [fn, tp]])\n",
    "\n",
    "    # Plot heatmap of confusion matrix\n",
    "    fig, ax = plt.subplots()\n",
    "    cax = ax.matshow(matrix, cmap='Blues')\n",
    "    plt.title(title)\n",
    "    plt.colorbar(cax)\n",
    "    plt.xlabel('Predicted')\n",
    "    plt.ylabel('Actual')\n",
    "\n",
    "    # Annotate each cell with the count value\n",
    "    for (i, j), val in np.ndenumerate(matrix):\n",
    "        ax.text(j, i, str(val), ha='center', va='center', fontsize=12, color='black')\n",
    "\n",
    "    plt.xticks([0,1], [\"Did Not Survive\", \"Survived\"])\n",
    "    plt.yticks([0,1], [\"Did Not Survive\", \"Survived\"])\n",
    "    plt.show()\n"
   ]
  },
  {
   "cell_type": "code",
   "execution_count": 30,
   "metadata": {},
   "outputs": [
    {
     "data": {
      "image/png": "[encoded data removed]",
      "text/plain": [
       "<Figure size 640x480 with 2 Axes>"
      ]
     },
     "metadata": {},
     "output_type": "display_data"
    },
    {
     "data": {
      "image/png": "[encoded data removed]",
      "text/plain": [
       "<Figure size 640x480 with 2 Axes>"
      ]
     },
     "metadata": {},
     "output_type": "display_data"
    }
   ],
   "source": [
    "# Plot confusion matrices for both models\n",
    "plot_confusion_matrix(y_val, knn_preds, title=\"KNN Confusion Matrix\")\n",
    "plot_confusion_matrix(y_val, nb_preds, title=\"Naive Bayes Confusion Matrix\")\n"
   ]
  },
  {
   "cell_type": "code",
   "execution_count": 31,
   "metadata": {},
   "outputs": [
    {
     "data": {
      "image/png": "[encoded data removed]",
      "text/plain": [
       "<Figure size 500x400 with 1 Axes>"
      ]
     },
     "metadata": {},
     "output_type": "display_data"
    }
   ],
   "source": [
    "# Plot distribution of KNN predictions on test data\n",
    "plt.figure(figsize=(5,4))\n",
    "pd.Series(final_preds).value_counts().sort_index().plot(kind='bar', color='teal')\n",
    "plt.title(\"KNN Test Data Survival Predictions\")\n",
    "plt.xticks([0, 1], [\"Did Not Survive\", \"Survived\"], rotation=0)\n",
    "plt.ylabel(\"Count\")\n",
    "plt.grid(axis='y')\n",
    "plt.show()\n",
    "\n"
   ]
  }
 ],
 "metadata": {
  "kernelspec": {
   "display_name": "Python 3",
   "language": "python",
   "name": "python3"
  },
  "language_info": {
   "codemirror_mode": {
    "name": "ipython",
    "version": 3
   },
   "file_extension": ".py",
   "mimetype": "text/x-python",
   "name": "python",
   "nbconvert_exporter": "python",
   "pygments_lexer": "ipython3",
   "version": "3.10.0rc2"
  }
 },
 "nbformat": 4,
 "nbformat_minor": 2
}
